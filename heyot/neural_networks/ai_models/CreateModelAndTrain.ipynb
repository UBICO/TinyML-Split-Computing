{
 "cells": [
  {
   "cell_type": "code",
   "execution_count": 16,
   "metadata": {},
   "outputs": [],
   "source": [
    "from ModelDataGenerator import ModelDataGenerator\n",
    "from ModelBuilder import ModelBuilder"
   ]
  },
  {
   "cell_type": "code",
   "execution_count": 17,
   "metadata": {},
   "outputs": [],
   "source": [
    "# Create an instance of ModelDataGenerator\n",
    "generator = ModelDataGenerator(\n",
    "    image_size=30, \n",
    "    num_images=2000,\n",
    "    dataset_path='models/test_model/data'\n",
    ")\n",
    "\n",
    "# Generate and save the dataset\n",
    "image_paths, labels = generator.generate_dataset()"
   ]
  },
  {
   "cell_type": "code",
   "execution_count": 18,
   "metadata": {},
   "outputs": [
    {
     "name": "stdout",
     "output_type": "stream",
     "text": [
      "Epoch 1/10\n",
      "50/50 [==============================] - 1s 16ms/step - loss: 0.7013 - accuracy: 0.5369 - val_loss: 0.6386 - val_accuracy: 0.5325\n",
      "Epoch 2/10\n",
      "50/50 [==============================] - 1s 13ms/step - loss: 0.5034 - accuracy: 0.7588 - val_loss: 0.3473 - val_accuracy: 1.0000\n",
      "Epoch 3/10\n",
      "50/50 [==============================] - 1s 14ms/step - loss: 0.0741 - accuracy: 1.0000 - val_loss: 0.0055 - val_accuracy: 1.0000\n",
      "Epoch 4/10\n",
      "50/50 [==============================] - 1s 14ms/step - loss: 0.0026 - accuracy: 1.0000 - val_loss: 0.0013 - val_accuracy: 1.0000\n",
      "Epoch 5/10\n",
      "50/50 [==============================] - 1s 14ms/step - loss: 8.7913e-04 - accuracy: 1.0000 - val_loss: 6.0734e-04 - val_accuracy: 1.0000\n",
      "Epoch 6/10\n",
      "50/50 [==============================] - 1s 14ms/step - loss: 4.7880e-04 - accuracy: 1.0000 - val_loss: 3.7088e-04 - val_accuracy: 1.0000\n",
      "Epoch 7/10\n",
      "50/50 [==============================] - 1s 15ms/step - loss: 3.0522e-04 - accuracy: 1.0000 - val_loss: 2.4799e-04 - val_accuracy: 1.0000\n",
      "Epoch 8/10\n",
      "50/50 [==============================] - 1s 13ms/step - loss: 2.1225e-04 - accuracy: 1.0000 - val_loss: 1.7909e-04 - val_accuracy: 1.0000\n",
      "Epoch 9/10\n",
      "50/50 [==============================] - 1s 13ms/step - loss: 1.5697e-04 - accuracy: 1.0000 - val_loss: 1.3560e-04 - val_accuracy: 1.0000\n",
      "Epoch 10/10\n",
      "50/50 [==============================] - 1s 13ms/step - loss: 1.2103e-04 - accuracy: 1.0000 - val_loss: 1.0610e-04 - val_accuracy: 1.0000\n",
      "13/13 [==============================] - 0s 5ms/step - loss: 1.0610e-04 - accuracy: 1.0000\n",
      "Test Loss: 0.0001, Test Accuracy: 1.0000\n"
     ]
    },
    {
     "name": "stderr",
     "output_type": "stream",
     "text": [
      "c:\\Users\\Fabio Bove\\AppData\\Local\\Programs\\Python\\Python311\\Lib\\site-packages\\keras\\src\\engine\\training.py:3000: UserWarning: You are saving your model as an HDF5 file via `model.save()`. This file format is considered legacy. We recommend using instead the native Keras format, e.g. `model.save('my_model.keras')`.\n",
      "  saving_api.save_model(\n"
     ]
    }
   ],
   "source": [
    "model = ModelBuilder(\n",
    "    image_size=30, \n",
    "    num_classes=1, \n",
    "    image_paths=image_paths, \n",
    "    labels= labels, \n",
    "    dataset_path='models/test_model/data'\n",
    ")\n",
    "model.train_model(epochs=10)\n",
    "model.evaluate_model()\n",
    "model.save_model_as_h5(model_name='test_model')"
   ]
  },
  {
   "cell_type": "code",
   "execution_count": 20,
   "metadata": {},
   "outputs": [
    {
     "name": "stdout",
     "output_type": "stream",
     "text": [
      "1/1 [==============================] - 0s 21ms/step\n",
      "Model predicts a 1\n",
      "values is a 1\n",
      "1/1 [==============================] - 0s 20ms/step\n",
      "Model does not predict a 1\n",
      "values is a 0\n",
      "1/1 [==============================] - 0s 18ms/step\n",
      "Model does not predict a 1\n",
      "values is a 0\n",
      "1/1 [==============================] - 0s 21ms/step\n",
      "Model does not predict a 1\n",
      "values is a 0\n",
      "1/1 [==============================] - 0s 29ms/step\n",
      "Model predicts a 1\n",
      "values is a 1\n",
      "1/1 [==============================] - 0s 25ms/step\n",
      "Model predicts a 1\n",
      "values is a 1\n"
     ]
    }
   ],
   "source": [
    "# Get the prediction from the model\n",
    "data_for_predictions  = [\n",
    "    \"./models/test_model/pred_data/pred_test_is_1.png\",\n",
    "    \"./models/test_model/pred_data/pred_test_is_0.png\",\n",
    "    \"./models/test_model/pred_data/pred_test_is_0.png\",\n",
    "    \"./models/test_model/pred_data/pred_test_is_0.png\",\n",
    "    \"./models/test_model/pred_data/pred_test_is_1.png\",\n",
    "    \"./models/test_model/pred_data/pred_test_is_1.png\",\n",
    "]\n",
    "\n",
    "# Set a threshold for classification (you can adjust this based on your needs)\n",
    "threshold = 0.5\n",
    "\n",
    "for data in data_for_predictions:\n",
    "    \n",
    "    prediction = model.predict(data)\n",
    "    # Check if the prediction is greater than the threshold\n",
    "    if prediction[0][0] >= threshold:\n",
    "        print(\"Model predicts a 1\")\n",
    "    else:\n",
    "        print(\"Model does not predict a 1\")\n",
    "    correct_value = data.split('_')[-1].split('.')[0]\n",
    "    print(f\"values is a {correct_value}\")\n"
   ]
  }
 ],
 "metadata": {
  "kernelspec": {
   "display_name": "Python 3",
   "language": "python",
   "name": "python3"
  },
  "language_info": {
   "codemirror_mode": {
    "name": "ipython",
    "version": 3
   },
   "file_extension": ".py",
   "mimetype": "text/x-python",
   "name": "python",
   "nbconvert_exporter": "python",
   "pygments_lexer": "ipython3",
   "version": "3.11.4"
  }
 },
 "nbformat": 4,
 "nbformat_minor": 2
}

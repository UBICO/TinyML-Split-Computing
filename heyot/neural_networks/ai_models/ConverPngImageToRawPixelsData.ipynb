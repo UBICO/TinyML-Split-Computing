{
 "cells": [
  {
   "cell_type": "code",
   "execution_count": 6,
   "metadata": {},
   "outputs": [],
   "source": [
    "from PIL import Image\n",
    "import numpy as np\n",
    "\n",
    "def convert_png_to_raw(image_path, output_path, width, height):\n",
    "    # Open the PNG image\n",
    "    img = Image.open(image_path)\n",
    "\n",
    "    # Resize the image to the desired width and height\n",
    "    img = img.resize((width, height))\n",
    "\n",
    "    # Convert the image to grayscale\n",
    "    img = img.convert('L')\n",
    "\n",
    "    # Convert the image to a NumPy array\n",
    "    img_array = np.array(img)\n",
    "\n",
    "    # Flatten the 2D array to a 1D array (row-major order)\n",
    "    flat_array = img_array.flatten()\n",
    "\n",
    "    # Write the raw pixel data to a binary file\n",
    "    with open(output_path, 'wb') as output_file:\n",
    "        output_file.write(bytes(flat_array))"
   ]
  },
  {
   "cell_type": "code",
   "execution_count": 7,
   "metadata": {},
   "outputs": [],
   "source": [
    "def convert_raw_to_png(raw_path, output_path, width, height):\n",
    "    # Read raw data from file\n",
    "    with open(raw_path, 'rb') as file:\n",
    "        raw_data = file.read()\n",
    "\n",
    "    # Convert the raw data to a NumPy array\n",
    "    flat_array = np.frombuffer(raw_data, dtype=np.uint8)\n",
    "\n",
    "    # Reshape the 1D array to a 2D array\n",
    "    img_array = flat_array.reshape((height, width))\n",
    "\n",
    "    # Create an Image object from the NumPy array\n",
    "    img = Image.fromarray(img_array)\n",
    "\n",
    "    # Save the Image object as a PNG file\n",
    "    img.save(output_path, 'PNG')"
   ]
  },
  {
   "cell_type": "code",
   "execution_count": 10,
   "metadata": {},
   "outputs": [],
   "source": [
    "\n",
    "model_name = 'test_model'\n",
    "img_filename_for_pred = 'pred_test_is_1'\n",
    "# Replace 'input.png' with the path to your PNG image\n",
    "input_image_path = f'models/{model_name}/pred_data/{img_filename_for_pred}.png'\n",
    "\n",
    "# Replace 'output.raw' with the desired output path for the raw pixel data\n",
    "output_raw_path = f'models/test_model/pred_data/{img_filename_for_pred}.raw'\n",
    "\n",
    "# Replace 30 and 30 with the desired width and height\n",
    "image_width, image_height = 30, 30\n",
    "\n",
    "convert_png_to_raw(input_image_path, output_raw_path, image_width, image_height)\n",
    "\n",
    "# Convert the raw back to PNG for testing\n",
    "#output_png_path = 'models/test_model/pred_data/output_test.png'\n",
    "#convert_raw_to_png(output_raw_path, output_png_path, image_width, image_height)"
   ]
  }
 ],
 "metadata": {
  "kernelspec": {
   "display_name": "Python 3",
   "language": "python",
   "name": "python3"
  },
  "language_info": {
   "codemirror_mode": {
    "name": "ipython",
    "version": 3
   },
   "file_extension": ".py",
   "mimetype": "text/x-python",
   "name": "python",
   "nbconvert_exporter": "python",
   "pygments_lexer": "ipython3",
   "version": "3.11.4"
  }
 },
 "nbformat": 4,
 "nbformat_minor": 2
}
